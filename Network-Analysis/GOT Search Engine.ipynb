{
 "cells": [
  {
   "cell_type": "markdown",
   "id": "7147881a",
   "metadata": {},
   "source": [
    "# Search Engine des alias d'un personnage de Game of Thrones"
   ]
  },
  {
   "cell_type": "code",
   "execution_count": 163,
   "id": "c71e4c4c",
   "metadata": {},
   "outputs": [],
   "source": [
    "import pandas as pd\n",
    "import requests\n",
    "from bs4 import BeautifulSoup\n",
    "import numpy as np\n",
    "import seaborn as sns\n",
    "import re\n",
    "from tqdm import tqdm\n",
    "sns.set()\n",
    "\n",
    "SAVE_PATH = \"/home/samy/csv_pickle_parquet/\" #Le directory ou se trouve les documents d'études\n"
   ]
  },
  {
   "cell_type": "code",
   "execution_count": 164,
   "id": "8178fd5d",
   "metadata": {},
   "outputs": [],
   "source": [
    "AWOIAF_LIST_URL = \"https://awoiaf.westeros.org/index.php/List_of_characters\"\n",
    "\n",
    "HEADERS = {\"User-Agent\":\"Mozilla/5.0 (Windows NT 10.0; Win64; x64) AppleWebKit/537.36 (KHTML, like Gecko) Chrome/118.0.5993.118 Safari/537.36\"}\n",
    "\n",
    "r = requests.get(AWOIAF_LIST_URL,headers=HEADERS)\n",
    "\n",
    "soup = BeautifulSoup(r.text)\n",
    "items = soup.find_all(\"ul\")[9:35]\n",
    "li_list = []\n",
    "for ul in items:\n",
    "    li_list = new_list + ul.find_all(\"li\")\n"
   ]
  },
  {
   "cell_type": "markdown",
   "id": "4f765f06",
   "metadata": {},
   "source": [
    "### Création d'un dictionnaire avec tout les liens de téléchargement"
   ]
  },
  {
   "cell_type": "code",
   "execution_count": null,
   "id": "79093600",
   "metadata": {},
   "outputs": [],
   "source": [
    "characters_url_dict = {}\n",
    "for item in li_list:\n",
    "    a = item.find(\"a\")\n",
    "    title = a.get(\"title\")\n",
    "    if title:\n",
    "        href = a.get(\"href\")\n",
    "        characters_url_dict[title] = \"https://awoiaf.westeros.org\"+href"
   ]
  },
  {
   "cell_type": "markdown",
   "id": "c76ba6a0",
   "metadata": {},
   "source": [
    "### Téléchargement des données et transformation en csv"
   ]
  },
  {
   "cell_type": "code",
   "execution_count": 22,
   "id": "81ac2ff4",
   "metadata": {},
   "outputs": [
    {
     "name": "stderr",
     "output_type": "stream",
     "text": [
      "100%|██████████████████████████████████████████████████████████████████████████████████████████████████████████████████████████████████████████████████████████████████████████████████████████████████| 3842/3842 [1:07:15<00:00,  1.05s/it]\n"
     ]
    }
   ],
   "source": [
    "raw_data_wiki = pd.DataFrame(columns = [\"character\",\"raw_data\"])\n",
    "\n",
    "for chara in tqdm(characters_url_dict.keys()):\n",
    "    fetched_html = requests.get(characters_url_dict[chara],headers=headers).text\n",
    "    raw_data_wiki.loc[len(raw_data_wiki),:] = [chara,fetched_html]\n",
    "    \n",
    "    \n",
    "raw_data_wiki.to_csv(SAVE_PATH + \"awoiaf_raw_html.csv\",sep=\",\",index=0)"
   ]
  },
  {
   "cell_type": "markdown",
   "id": "06c2e7b0",
   "metadata": {},
   "source": [
    "### Obtention de la page html pour un personnage en particulier"
   ]
  },
  {
   "cell_type": "code",
   "execution_count": 166,
   "id": "e87a3a8d",
   "metadata": {},
   "outputs": [],
   "source": [
    "import csv\n",
    "import codecs\n",
    "import sys\n",
    "\n",
    "csv.field_size_limit(sys.maxsize)\n",
    "\n",
    "\n",
    "FILENAME =SAVE_PATH + \"awoiaf_raw_html.csv\"\n",
    "ENCODING = 'utf-8'\n",
    "\n",
    "#Deux solutions pour lire des données : import via pandas ou streaming\n",
    "\n",
    "def get_html_streaming(character): #Cette solution est intéressante si la volumétrie de données est très importante (temps d'exec au pire des cas : 3.76s)\n",
    "    with codecs.open(FILENAME, \"r\", ENCODING) as fp:\n",
    "        reader = csv.reader(fp)\n",
    "        i=0\n",
    "        for row in tqdm(reader):\n",
    "            if row[0] == character:\n",
    "                return row[1]\n",
    "        raise Exception(\"Character not found\")\n",
    "\n",
    "                \n",
    "def get_html_pandas(character): #Solution naive mais la plus efficace dans le cas présent (temps d'exec moyen : 1.72s)\n",
    "    data = pd.read_csv(FILENAME)\n",
    "    liste = data[data[\"character\"] == character].raw_data.tolist()\n",
    "    if liste:\n",
    "        return liste[0]\n",
    "    else:\n",
    "        raise Exception(\"Character not found\")\n",
    "                "
   ]
  },
  {
   "cell_type": "markdown",
   "id": "a44f4a06",
   "metadata": {},
   "source": [
    "### Obtention des alias d'un personnage"
   ]
  },
  {
   "cell_type": "code",
   "execution_count": 167,
   "id": "10b5f91f",
   "metadata": {
    "scrolled": true
   },
   "outputs": [],
   "source": [
    "def get_aliases(character):\n",
    "    aliases_list = []\n",
    "    html = get_html_streaming(character)\n",
    "    soup = BeautifulSoup(html)\n",
    "    aliases_html_th = soup.find(\"table\",class_=\"infobox\").find(\"th\",text=\"Aliases\")\n",
    "    if aliases_html_th:\n",
    "        aliases_html_td = aliases_html_th.find_next('td').find_all(\"li\")\n",
    "        for elmt in aliases_html_td:\n",
    "            name = elmt.text\n",
    "            name = ''.join([i for i in name if not i.isdigit()]).replace(\"[\",\"\").replace(\"]\",\"\")\n",
    "            aliases_list.append(name)\n",
    "    return aliases_list\n"
   ]
  },
  {
   "cell_type": "markdown",
   "id": "17bbd1b9",
   "metadata": {},
   "source": [
    "###### Cas possibles en résultat du search engine"
   ]
  },
  {
   "cell_type": "code",
   "execution_count": 168,
   "id": "e2595478",
   "metadata": {
    "scrolled": true
   },
   "outputs": [
    {
     "name": "stderr",
     "output_type": "stream",
     "text": [
      "3843it [00:03, 982.68it/s] \n"
     ]
    },
    {
     "ename": "Exception",
     "evalue": "Character not found",
     "output_type": "error",
     "traceback": [
      "\u001b[0;31m---------------------------------------------------------------------------\u001b[0m",
      "\u001b[0;31mException\u001b[0m                                 Traceback (most recent call last)",
      "\u001b[0;32m/tmp/ipykernel_677/620731692.py\u001b[0m in \u001b[0;36m<module>\u001b[0;34m\u001b[0m\n\u001b[1;32m      1\u001b[0m \u001b[0;31m#1) Personnage inexistant : --> levée d'Exception : personnage non trouvé\u001b[0m\u001b[0;34m\u001b[0m\u001b[0;34m\u001b[0m\u001b[0m\n\u001b[0;32m----> 2\u001b[0;31m \u001b[0mget_aliases\u001b[0m\u001b[0;34m(\u001b[0m\u001b[0;34m\"Samy\"\u001b[0m\u001b[0;34m)\u001b[0m\u001b[0;34m\u001b[0m\u001b[0;34m\u001b[0m\u001b[0m\n\u001b[0m",
      "\u001b[0;32m/tmp/ipykernel_677/286192879.py\u001b[0m in \u001b[0;36mget_aliases\u001b[0;34m(character)\u001b[0m\n\u001b[1;32m      1\u001b[0m \u001b[0;32mdef\u001b[0m \u001b[0mget_aliases\u001b[0m\u001b[0;34m(\u001b[0m\u001b[0mcharacter\u001b[0m\u001b[0;34m)\u001b[0m\u001b[0;34m:\u001b[0m\u001b[0;34m\u001b[0m\u001b[0;34m\u001b[0m\u001b[0m\n\u001b[1;32m      2\u001b[0m     \u001b[0maliases_list\u001b[0m \u001b[0;34m=\u001b[0m \u001b[0;34m[\u001b[0m\u001b[0;34m]\u001b[0m\u001b[0;34m\u001b[0m\u001b[0;34m\u001b[0m\u001b[0m\n\u001b[0;32m----> 3\u001b[0;31m     \u001b[0mhtml\u001b[0m \u001b[0;34m=\u001b[0m \u001b[0mget_html_streaming\u001b[0m\u001b[0;34m(\u001b[0m\u001b[0mcharacter\u001b[0m\u001b[0;34m)\u001b[0m\u001b[0;34m\u001b[0m\u001b[0;34m\u001b[0m\u001b[0m\n\u001b[0m\u001b[1;32m      4\u001b[0m     \u001b[0msoup\u001b[0m \u001b[0;34m=\u001b[0m \u001b[0mBeautifulSoup\u001b[0m\u001b[0;34m(\u001b[0m\u001b[0mhtml\u001b[0m\u001b[0;34m)\u001b[0m\u001b[0;34m\u001b[0m\u001b[0;34m\u001b[0m\u001b[0m\n\u001b[1;32m      5\u001b[0m     \u001b[0maliases_html_th\u001b[0m \u001b[0;34m=\u001b[0m \u001b[0msoup\u001b[0m\u001b[0;34m.\u001b[0m\u001b[0mfind\u001b[0m\u001b[0;34m(\u001b[0m\u001b[0;34m\"table\"\u001b[0m\u001b[0;34m,\u001b[0m\u001b[0mclass_\u001b[0m\u001b[0;34m=\u001b[0m\u001b[0;34m\"infobox\"\u001b[0m\u001b[0;34m)\u001b[0m\u001b[0;34m.\u001b[0m\u001b[0mfind\u001b[0m\u001b[0;34m(\u001b[0m\u001b[0;34m\"th\"\u001b[0m\u001b[0;34m,\u001b[0m\u001b[0mtext\u001b[0m\u001b[0;34m=\u001b[0m\u001b[0;34m\"Aliases\"\u001b[0m\u001b[0;34m)\u001b[0m\u001b[0;34m\u001b[0m\u001b[0;34m\u001b[0m\u001b[0m\n",
      "\u001b[0;32m/tmp/ipykernel_677/1416379302.py\u001b[0m in \u001b[0;36mget_html_streaming\u001b[0;34m(character)\u001b[0m\n\u001b[1;32m     18\u001b[0m             \u001b[0;32mif\u001b[0m \u001b[0mrow\u001b[0m\u001b[0;34m[\u001b[0m\u001b[0;36m0\u001b[0m\u001b[0;34m]\u001b[0m \u001b[0;34m==\u001b[0m \u001b[0mcharacter\u001b[0m\u001b[0;34m:\u001b[0m\u001b[0;34m\u001b[0m\u001b[0;34m\u001b[0m\u001b[0m\n\u001b[1;32m     19\u001b[0m                 \u001b[0;32mreturn\u001b[0m \u001b[0mrow\u001b[0m\u001b[0;34m[\u001b[0m\u001b[0;36m1\u001b[0m\u001b[0;34m]\u001b[0m\u001b[0;34m\u001b[0m\u001b[0;34m\u001b[0m\u001b[0m\n\u001b[0;32m---> 20\u001b[0;31m         \u001b[0;32mraise\u001b[0m \u001b[0mException\u001b[0m\u001b[0;34m(\u001b[0m\u001b[0;34m\"Character not found\"\u001b[0m\u001b[0;34m)\u001b[0m\u001b[0;34m\u001b[0m\u001b[0;34m\u001b[0m\u001b[0m\n\u001b[0m\u001b[1;32m     21\u001b[0m \u001b[0;34m\u001b[0m\u001b[0m\n\u001b[1;32m     22\u001b[0m \u001b[0;34m\u001b[0m\u001b[0m\n",
      "\u001b[0;31mException\u001b[0m: Character not found"
     ]
    }
   ],
   "source": [
    "\n",
    "#1) Personnage inexistant : --> levée d'Exception : personnage non trouvé\n",
    "get_aliases(\"Samy\") "
   ]
  },
  {
   "cell_type": "code",
   "execution_count": 169,
   "id": "6c4a30b3",
   "metadata": {},
   "outputs": [
    {
     "name": "stderr",
     "output_type": "stream",
     "text": [
      "1it [00:00, 430.58it/s]\n"
     ]
    },
    {
     "data": {
      "text/plain": [
       "[]"
      ]
     },
     "execution_count": 169,
     "metadata": {},
     "output_type": "execute_result"
    }
   ],
   "source": [
    "#2) Personnage existant mais aucun alias : --> Liste vide\n",
    "get_aliases(\"A certain man\")"
   ]
  },
  {
   "cell_type": "code",
   "execution_count": 170,
   "id": "3cc5f803",
   "metadata": {},
   "outputs": [
    {
     "name": "stderr",
     "output_type": "stream",
     "text": [
      "1007it [00:01, 873.07it/s]\n"
     ]
    },
    {
     "data": {
      "text/plain": [
       "['Ned', 'The quiet wolf', 'The Ned']"
      ]
     },
     "execution_count": 170,
     "metadata": {},
     "output_type": "execute_result"
    }
   ],
   "source": [
    "#3) Personnage existant avec des surnoms : --> Liste de surnoms\n",
    "get_aliases(\"Eddard Stark\")"
   ]
  }
 ],
 "metadata": {
  "kernelspec": {
   "display_name": "Python 3 (ipykernel)",
   "language": "python",
   "name": "python3"
  },
  "language_info": {
   "codemirror_mode": {
    "name": "ipython",
    "version": 3
   },
   "file_extension": ".py",
   "mimetype": "text/x-python",
   "name": "python",
   "nbconvert_exporter": "python",
   "pygments_lexer": "ipython3",
   "version": "3.10.12"
  }
 },
 "nbformat": 4,
 "nbformat_minor": 5
}
